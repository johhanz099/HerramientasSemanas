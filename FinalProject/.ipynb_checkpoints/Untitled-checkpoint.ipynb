{
 "cells": [
  {
   "cell_type": "code",
   "execution_count": 2,
   "id": "292b3ebb-ff02-433d-a653-e59c235e2cc7",
   "metadata": {},
   "outputs": [],
   "source": [
    "import numpy as np"
   ]
  },
  {
   "cell_type": "code",
   "execution_count": 3,
   "id": "9cddcf91-7a30-406a-8d9b-155ce374c9ac",
   "metadata": {},
   "outputs": [],
   "source": [
    "a = np.array([1,2,3,4,5])"
   ]
  },
  {
   "cell_type": "code",
   "execution_count": 4,
   "id": "fe743edf-a73f-48da-a6a6-aafd863376ba",
   "metadata": {},
   "outputs": [
    {
     "name": "stdout",
     "output_type": "stream",
     "text": [
      "[ 1  2  3  5  7  9 10]\n"
     ]
    }
   ],
   "source": [
    "myArray = np.array([1, 2, 3, 4, 5, 6, 7, 8, 9, 10])\n",
    "indexes = [3, 5, 7]\n",
    "modifiedArray = np.delete(myArray, indexes)\n",
    "print(modifiedArray)"
   ]
  },
  {
   "cell_type": "code",
   "execution_count": 5,
   "id": "dfa648e1-5af3-4943-88be-7320dd10bfaf",
   "metadata": {},
   "outputs": [
    {
     "data": {
      "text/plain": [
       "slice(None, None, 2)"
      ]
     },
     "execution_count": 5,
     "metadata": {},
     "output_type": "execute_result"
    }
   ],
   "source": [
    "np.s_[::2]"
   ]
  },
  {
   "cell_type": "code",
   "execution_count": 7,
   "id": "4d11d6ee-b37c-4875-a973-54cf57fdd546",
   "metadata": {},
   "outputs": [],
   "source": [
    "def filtrar(data):\n",
    "    for j in range(data.shape[1]):\n",
    "        for i in range(0,data.shape[0],2):\n",
    "            data = np.delete(data,i,j)"
   ]
  },
  {
   "cell_type": "code",
   "execution_count": null,
   "id": "efe8243b-2f35-42b6-b8b8-d2622fcd4472",
   "metadata": {},
   "outputs": [],
   "source": []
  }
 ],
 "metadata": {
  "kernelspec": {
   "display_name": "Python 3 (ipykernel)",
   "language": "python",
   "name": "python3"
  },
  "language_info": {
   "codemirror_mode": {
    "name": "ipython",
    "version": 3
   },
   "file_extension": ".py",
   "mimetype": "text/x-python",
   "name": "python",
   "nbconvert_exporter": "python",
   "pygments_lexer": "ipython3",
   "version": "3.7.12"
  }
 },
 "nbformat": 4,
 "nbformat_minor": 5
}
