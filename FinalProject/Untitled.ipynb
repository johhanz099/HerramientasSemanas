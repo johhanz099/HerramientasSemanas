{
 "cells": [
  {
   "cell_type": "code",
   "execution_count": 2,
   "id": "292b3ebb-ff02-433d-a653-e59c235e2cc7",
   "metadata": {},
   "outputs": [],
   "source": [
    "import numpy as np"
   ]
  },
  {
   "cell_type": "code",
   "execution_count": 3,
   "id": "9cddcf91-7a30-406a-8d9b-155ce374c9ac",
   "metadata": {},
   "outputs": [],
   "source": [
    "a = np.array([1,2,3,4,5])"
   ]
  },
  {
   "cell_type": "code",
   "execution_count": 4,
   "id": "fe743edf-a73f-48da-a6a6-aafd863376ba",
   "metadata": {},
   "outputs": [
    {
     "name": "stdout",
     "output_type": "stream",
     "text": [
      "[ 1  2  3  5  7  9 10]\n"
     ]
    }
   ],
   "source": [
    "myArray = np.array([1, 2, 3, 4, 5, 6, 7, 8, 9, 10])\n",
    "indexes = [3, 5, 7]\n",
    "modifiedArray = np.delete(myArray, indexes)\n",
    "print(modifiedArray)"
   ]
  },
  {
   "cell_type": "code",
   "execution_count": 5,
   "id": "dfa648e1-5af3-4943-88be-7320dd10bfaf",
   "metadata": {},
   "outputs": [
    {
     "data": {
      "text/plain": [
       "slice(None, None, 2)"
      ]
     },
     "execution_count": 5,
     "metadata": {},
     "output_type": "execute_result"
    }
   ],
   "source": [
    "np.s_[::2]"
   ]
  },
  {
   "cell_type": "code",
   "execution_count": 29,
   "id": "4d11d6ee-b37c-4875-a973-54cf57fdd546",
   "metadata": {},
   "outputs": [],
   "source": [
    "def filtrar(data):\n",
    "    for j in range(data.shape[1]):\n",
    "        for i in range(0,data.shape[0]-4,2):\n",
    "            data = np.delete(data,i,j)"
   ]
  },
  {
   "cell_type": "code",
   "execution_count": 46,
   "id": "efe8243b-2f35-42b6-b8b8-d2622fcd4472",
   "metadata": {},
   "outputs": [],
   "source": [
    "data = np.genfromtxt(\"data.dat\", delimiter = \",\")\n",
    "data = data[0:5,0:4]"
   ]
  },
  {
   "cell_type": "code",
   "execution_count": 47,
   "id": "8d04e35f-def5-4552-88f4-554501064e08",
   "metadata": {},
   "outputs": [
    {
     "data": {
      "text/plain": [
       "(5, 4)"
      ]
     },
     "execution_count": 47,
     "metadata": {},
     "output_type": "execute_result"
    }
   ],
   "source": [
    "data.shape"
   ]
  },
  {
   "cell_type": "code",
   "execution_count": 48,
   "id": "141c0d9c-a39a-448f-b278-31e9f78d094a",
   "metadata": {},
   "outputs": [
    {
     "data": {
      "text/plain": [
       "array([[0.00000e+00, 2.00000e+00, 4.44698e-04, 1.00000e+00],\n",
       "       [0.00000e+00, 2.00000e+00, 8.89396e-04, 9.99999e-01],\n",
       "       [1.00000e-03, 2.00000e+00, 1.33409e-03, 9.99998e-01],\n",
       "       [2.00000e-03, 2.00000e+00, 1.77879e-03, 9.99997e-01],\n",
       "       [3.00000e-03, 2.00000e+00, 2.22349e-03, 9.99996e-01]])"
      ]
     },
     "execution_count": 48,
     "metadata": {},
     "output_type": "execute_result"
    }
   ],
   "source": [
    "data"
   ]
  },
  {
   "cell_type": "code",
   "execution_count": 49,
   "id": "d5cc4c23-8272-4537-a7b9-158be201d971",
   "metadata": {},
   "outputs": [
    {
     "name": "stdout",
     "output_type": "stream",
     "text": [
      "[[0.00000e+00 2.00000e+00 8.89396e-04 9.99999e-01]\n",
      " [1.00000e-03 2.00000e+00 1.33409e-03 9.99998e-01]\n",
      " [2.00000e-03 2.00000e+00 1.77879e-03 9.99997e-01]\n",
      " [3.00000e-03 2.00000e+00 2.22349e-03 9.99996e-01]]\n"
     ]
    }
   ],
   "source": [
    "data = np.delete(data,0,0)\n",
    "print(data)"
   ]
  },
  {
   "cell_type": "code",
   "execution_count": 50,
   "id": "e87ada5e-c185-4e86-9386-824a6d831e0a",
   "metadata": {},
   "outputs": [
    {
     "data": {
      "text/plain": [
       "(4, 4)"
      ]
     },
     "execution_count": 50,
     "metadata": {},
     "output_type": "execute_result"
    }
   ],
   "source": [
    "data.shape"
   ]
  },
  {
   "cell_type": "code",
   "execution_count": null,
   "id": "6077f29d-dc59-4751-984d-bbead8fc4144",
   "metadata": {},
   "outputs": [],
   "source": []
  }
 ],
 "metadata": {
  "kernelspec": {
   "display_name": "Python 3 (ipykernel)",
   "language": "python",
   "name": "python3"
  },
  "language_info": {
   "codemirror_mode": {
    "name": "ipython",
    "version": 3
   },
   "file_extension": ".py",
   "mimetype": "text/x-python",
   "name": "python",
   "nbconvert_exporter": "python",
   "pygments_lexer": "ipython3",
   "version": "3.7.12"
  }
 },
 "nbformat": 4,
 "nbformat_minor": 5
}
